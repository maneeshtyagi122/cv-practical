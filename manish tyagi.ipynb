{
 "cells": [
  {
   "cell_type": "markdown",
   "metadata": {},
   "source": [
    "# ans = 3"
   ]
  },
  {
   "cell_type": "code",
   "execution_count": null,
   "metadata": {},
   "outputs": [],
   "source": [
    "import cv2\n",
    "image = cv2.imread('E:/maneesh/IMG_20180803_102555.jpg')\n",
    "gray_imag = cv2.cvtColor(image,cv2.COLOR_RGB2GRAY)\n",
    "cv2.imshow('Grayscale' ,gray_imag)\n",
    "cv2.waitKey()\n",
    "cv2.destroyAllWindows()\n",
    "a=image:copy()\n",
    "a[:,:,2]=0\n",
    "a[:,:,1]=0\n",
    "cv2.imshow('Bluescale',a)"
   ]
  },
  {
   "cell_type": "markdown",
   "metadata": {},
   "source": [
    "# ans  2 "
   ]
  },
  {
   "cell_type": "code",
   "execution_count": 1,
   "metadata": {},
   "outputs": [],
   "source": [
    "import cv2\n",
    "import numpy as np\n",
    "img_ = cv2.imread('E:/images/IMG_20180803_102537_1.jpg',1)\n",
    "cv2.imshow('image',img_)\n"
   ]
  },
  {
   "cell_type": "code",
   "execution_count": null,
   "metadata": {},
   "outputs": [],
   "source": [
    "m = cv2.waitKey(0)\n",
    "if m == 26:\n",
    "    hsv = cv2.cvtColor(img, cv2.COLOR_BGR2HSV)\n",
    "    value = 10\n",
    "    cv2.add(hsv[:,:,2], value, hsv[:,:,2])\n",
    "    image = cv2.cvtColor(hsv, cv2.COLOR_HSV2BGR)\n",
    "    cv2.imwrite('out.png', image)\n",
    "    \n",
    "elif m == 27:\n",
    "    hsv = cv2.cvtColor(img, cv2.COLOR_BGR2HSV)\n",
    "    value = 10\n",
    "    cv2.sub(hsv[:,:,2], value, hsv[:,:,2])\n",
    "    image = cv2.cvtColor(hsv, cv2.COLOR_HSV2BGR)\n",
    "    cv2.imwrite('out.png', image)"
   ]
  }
 ],
 "metadata": {
  "kernelspec": {
   "display_name": "Python 3",
   "language": "python",
   "name": "python3"
  },
  "language_info": {
   "codemirror_mode": {
    "name": "ipython",
    "version": 3
   },
   "file_extension": ".py",
   "mimetype": "text/x-python",
   "name": "python",
   "nbconvert_exporter": "python",
   "pygments_lexer": "ipython3",
   "version": "3.7.4"
  }
 },
 "nbformat": 4,
 "nbformat_minor": 2
}
